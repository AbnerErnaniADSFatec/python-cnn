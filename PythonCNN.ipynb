{
 "cells": [
  {
   "cell_type": "markdown",
   "metadata": {},
   "source": [
    "# Python Convolutional Neural Networks\n",
    "\n",
    "O sistema deve reconhecer áreas de talhões (unidade mínima de cultivo de uma propriedade) em um mapa, utilizando dados multitemporais ([TensorFlow  Classificador de imagens](https://www.tensorflow.org/tutorials/images/classification)), através de inteligência artificial, a interface gráfica (Web GIS), deve permitir ao usuário selecionar um intervalo de tempo e as imagens de um catálogo disponível para a região selecionada, carregando-as em bloco para não sobrecarregar o sistema e ter opção para download.\n",
    "\n",
    "Web GIS (Web Geographic Information System): Portal de um “Sistema de Informação Geográfica” (SIG), baseado em padrão de serviços web OGC, fornecendo uma estrutura para visualização e navegação de mapas (basemaps) e de dados geográficos vetoriais e matriciais.\n",
    "\n",
    "- Catálogo de Imagem: O Catálogo de Imagem deve possibilitar a catalogação de coleções de dados espaço-temporal, (metadados) dos satélites Landsat 8 e Sentinel-2. Obs: O catálogo de imagem também deverá fornecer interface (web API) que permitirá consultar e recuperar as cenas de satélite catalogadas. Esta interface possibilitará que o Web GIS realize pesquisas complexas, filtrando diferentes parâmetros e especificando critérios geográficos.\n",
    "\n",
    "- Map Tile Engine: Esse componente deve produzir “map raster tile” para uma determinada cena de satélite, obedecendo ao padrão OGC WMTS. Permitindo que\n",
    "usuários do Web GIS visualizem e naveguem pelas imagens sem precisar baixá-las (real time streaming). Cada map tile é uma representação visual de parte da imagem, não dos dados em si. Esses tiles geralmente são renderizados em formato pictórico (PNG ou JPEG) que podem ser exibidos em uma aplicação web.\n",
    "\n",
    "- Download: Após a consulta às imagens de uma determinada área de interesse, o sistema permite o download de todas as cenas (com todas as suas bandas) do período selecionado pelo usuário (Pilha de imagem).\n",
    "\n",
    "- Máscara (Mask): Neste módulo, o sistema gerará uma máscara binária com as regiões de interesse (AOI’s) para cada cena selecionada. A construção das máscaras de saída das áreas de interesse, se dão apresentando valor igual a um (1) dentro desse poligono, enquanto as demais áreas (áreas não selecionadas) apresentam valor igual a zero (0).\n",
    "\n",
    "\n",
    "<p align = \"center\">\n",
    "  <img width = \"600px\" src = \"./docs/assets/example.png\">\n",
    "</p>\n",
    "\n",
    "- Arquivo: Após a geração da máscara para cada cena (scene), é preciso armazená-la tanto para validação visual quanto para download. Com isso, nesse módulo a máscara deve ser armazenada de alguma forma que possibilite ao usuário fazer sua validação visual (próxima etapa), assim como o download para treinamento de modelos de inteligência artificial.\n",
    "\n",
    "> Funcionamento das redes neurais convolucionais para o processamento das imagens.\n",
    "\n",
    "**Obs.:** Instalação do Miniconda é necessária para a execução dos comandos a seguir.\n",
    "\n",
    "### Ambiente de Desenvolvimento\n",
    "```\n",
    "# Crie um novo ambiente conda com Python3+\n",
    "$ conda create --name python-cnn python=3.5\n",
    "\n",
    "# Ativar o ambiente\n",
    "$ conda activate python-cnn\n",
    "\n",
    "# Com o ambiente ativado instalar o ipykernel\n",
    "(python-cnn) $ conda install notebook ipykernel\n",
    "\n",
    "# Com o ipykernel criar um kernel com o python 3.5 automático\n",
    "(python-cnn) $ ipython kernel install --user\n",
    "\n",
    "# Instalar o servidor Jupyter Lab\n",
    "(python-cnn) $ python -m pip install jupyter\n",
    "\n",
    "# Instalar a biblioteca gdal e basemap para processar as imagens\n",
    "(python-cnn) $ conda install -c conda-forge gdal=2.4.4\n",
    "\n",
    "# Instalar a biblioteca gdal e basemap para processar as imagens\n",
    "(python-cnn) $ conda install basemap\n",
    "\n",
    "# Executar o servidor em modo de desenvolvimento\n",
    "(python-cnn) $ jupyter notebook\n",
    "```\n",
    "\n",
    "### Ambiente de micro serviços em docker\n",
    "```\n",
    "    TODO\n",
    "```\n",
    "\n",
    "### Código fonte\n",
    "\n",
    "> Para a execução do código fonte abaixo é necessário o download da pasta [`data/`](https://fatecspgov-my.sharepoint.com/:f:/g/personal/abner_anjos_fatec_sp_gov_br/EqcawzIRy5VBhi7LqlXGtpgB-DHpZq5IG1DspKuwD59YBA?e=4LEDNC), após o download descompacte na pasta root do projeto.\n",
    "\n",
    "```\n",
    "data/\n",
    "    |_ input/\n",
    "        |_ train/\n",
    "        |_ validation/\n",
    "    |_ output/\n",
    "```"
   ]
  },
  {
   "cell_type": "code",
   "execution_count": null,
   "metadata": {},
   "outputs": [],
   "source": [
    "!pip install tensorflow matplotlib georaster"
   ]
  },
  {
   "cell_type": "code",
   "execution_count": null,
   "metadata": {},
   "outputs": [],
   "source": [
    "import tensorflow as tf"
   ]
  },
  {
   "cell_type": "code",
   "execution_count": null,
   "metadata": {},
   "outputs": [],
   "source": [
    "from tensorflow.keras.models import Sequential\n",
    "from tensorflow.keras.layers import Dense, Conv2D, Flatten, Dropout, MaxPooling2D\n",
    "from tensorflow.keras.preprocessing.image import ImageDataGenerator\n",
    "\n",
    "import os\n",
    "import numpy as np\n",
    "import matplotlib.pyplot as plt\n",
    "import requests\n",
    "import georaster as gr"
   ]
  },
  {
   "cell_type": "code",
   "execution_count": null,
   "metadata": {},
   "outputs": [],
   "source": [
    "base_url = \"http://www.dpi.inpe.br/agricultural-database/lem/dados/cenas/Sentinel1\"\n",
    "sentinel1a = \"/20170612_S1A\"\n",
    "sentinel1b = \"/20170612_S1A\""
   ]
  },
  {
   "cell_type": "code",
   "execution_count": null,
   "metadata": {},
   "outputs": [],
   "source": [
    "test = base_url + sentinel1a + \"/clip_20170612T083546_Sigma0_VH_db.tif\"\n",
    "data = gr.from_file(raster)\n",
    "\n",
    "# Plot data\n",
    "data.plot()"
   ]
  }
 ],
 "metadata": {
  "kernelspec": {
   "display_name": "Python 3",
   "language": "python",
   "name": "python3"
  },
  "language_info": {
   "codemirror_mode": {
    "name": "ipython",
    "version": 3
   },
   "file_extension": ".py",
   "mimetype": "text/x-python",
   "name": "python",
   "nbconvert_exporter": "python",
   "pygments_lexer": "ipython3",
   "version": "3.6.10"
  }
 },
 "nbformat": 4,
 "nbformat_minor": 4
}
